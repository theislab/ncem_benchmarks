{
 "cells": [
  {
   "cell_type": "code",
   "execution_count": null,
   "id": "1d7192ed-b52a-4df8-abd8-10ca610509c9",
   "metadata": {},
   "outputs": [],
   "source": [
    "%load_ext autoreload\n",
    "%autoreload 2\n",
    "\n",
    "import scanpy as sc\n",
    "sc.settings.set_figure_params(dpi=80, facecolor='white')\n",
    "\n",
    "import ncem\n",
    "\n",
    "datadir = ''"
   ]
  },
  {
   "cell_type": "markdown",
   "id": "209ca147-4299-42ac-824a-ec8b720f7f8e",
   "metadata": {},
   "source": [
    "# Load data"
   ]
  },
  {
   "cell_type": "code",
   "execution_count": null,
   "id": "0c4024b7-aec6-4b2d-9753-26541adf3684",
   "metadata": {},
   "outputs": [],
   "source": [
    "interpreter = ncem.interpretation.interpreter.InterpreterGraph()\n",
    "interpreter.get_data(\n",
    "    data_path=datadir + '/lu/',\n",
    "    data_origin='luwt_imputation',\n",
    "    radius=200,\n",
    "    node_label_space_id='type',\n",
    "    node_feature_space_id='standard',\n",
    "    n_top_genes=4000\n",
    ")\n",
    "print('\\n Celldata metadata:', interpreter.data.celldata.uns['metadata'])"
   ]
  },
  {
   "cell_type": "code",
   "execution_count": null,
   "id": "30640eab-1b1f-4fe8-a340-dd06e4af7a8e",
   "metadata": {},
   "outputs": [],
   "source": [
    "interpreter.data.celltype_frequencies()"
   ]
  },
  {
   "cell_type": "code",
   "execution_count": null,
   "id": "a830efc7-0495-477a-8f38-ab5133cdb8d4",
   "metadata": {},
   "outputs": [],
   "source": [
    "adata = interpreter.data.ligrec(fraction=0.2)"
   ]
  },
  {
   "cell_type": "code",
   "execution_count": null,
   "id": "a2d8e3a5",
   "metadata": {
    "collapsed": false,
    "jupyter": {
     "outputs_hidden": false
    },
    "pycharm": {
     "name": "#%%\n"
    }
   },
   "outputs": [],
   "source": [
    "adata.uns['CellTypeID_new_preprocessed_ligrec']['metadata'].to_csv(\"../cellphoneDB/merfish_fetal_liver_imputation_cellphoneDB.csv\")"
   ]
  }
 ],
 "metadata": {
  "kernelspec": {
   "display_name": "Python 3",
   "language": "python",
   "name": "python3"
  },
  "language_info": {
   "codemirror_mode": {
    "name": "ipython",
    "version": 3
   },
   "file_extension": ".py",
   "mimetype": "text/x-python",
   "name": "python",
   "nbconvert_exporter": "python",
   "pygments_lexer": "ipython3",
   "version": "3.8.0"
  }
 },
 "nbformat": 4,
 "nbformat_minor": 5
}

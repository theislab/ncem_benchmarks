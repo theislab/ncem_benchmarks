{
 "cells": [
  {
   "cell_type": "code",
   "execution_count": 1,
   "id": "0dd9f794-a8d6-4409-8ebb-62f9a3db7c39",
   "metadata": {},
   "outputs": [],
   "source": [
    "%load_ext autoreload\n",
    "%autoreload 2\n",
    "\n",
    "import ncem\n",
    "import scanpy as sc\n",
    "import numpy as np\n",
    "from scipy.spatial import KDTree"
   ]
  },
  {
   "cell_type": "code",
   "execution_count": 2,
   "id": "91199605-ca30-4ad3-98c4-9f8f6fbdabf5",
   "metadata": {},
   "outputs": [],
   "source": [
    "datadir = \"/Users/anna.schaar/phd/datasets/\""
   ]
  },
  {
   "cell_type": "code",
   "execution_count": 3,
   "id": "458bda60-e52b-476f-abd7-f49ac0e1783d",
   "metadata": {},
   "outputs": [],
   "source": [
    "fetal_liver = sc.read(datadir + \"lu/fetal_liver.h5ad\")\n",
    "sorted_HSC = sc.read(datadir + \"lu/sorted_HSC.h5ad\")"
   ]
  },
  {
   "cell_type": "code",
   "execution_count": 4,
   "id": "324b8f3d-ca37-49dc-a1c4-845d180ea434",
   "metadata": {},
   "outputs": [],
   "source": [
    "markers = list(set.intersection(set(fetal_liver.var_names), set(sorted_HSC.var_names)))"
   ]
  },
  {
   "cell_type": "code",
   "execution_count": 5,
   "id": "91e869da-1bad-4919-93ec-0c38228fc432",
   "metadata": {},
   "outputs": [],
   "source": [
    "fetal_liver = fetal_liver[:, markers]\n",
    "sorted_HSC= sorted_HSC[:, markers]"
   ]
  },
  {
   "cell_type": "code",
   "execution_count": 6,
   "id": "fbcb1c38-8d45-4c99-a1f0-f452f7228b04",
   "metadata": {},
   "outputs": [
    {
     "name": "stderr",
     "output_type": "stream",
     "text": [
      "Trying to set attribute `.uns` of view, copying.\n",
      "Trying to set attribute `.uns` of view, copying.\n"
     ]
    }
   ],
   "source": [
    "sc.pp.highly_variable_genes(fetal_liver)\n",
    "hvg_fetal_liver = [x for i, x in enumerate(fetal_liver.var_names) if list(fetal_liver.var['highly_variable'])[i]]\n",
    "\n",
    "sc.pp.highly_variable_genes(sorted_HSC)\n",
    "hvg_sorted_HSC = [x for i, x in enumerate(sorted_HSC.var_names) if list(sorted_HSC.var['highly_variable'])[i] == True]\n",
    "\n",
    "hvg_markers = list(set.intersection(set(hvg_fetal_liver), set(hvg_sorted_HSC)))"
   ]
  },
  {
   "cell_type": "code",
   "execution_count": 7,
   "id": "16f80af4-bfa5-44f4-bb52-36fb392eebbc",
   "metadata": {},
   "outputs": [
    {
     "data": {
      "text/plain": [
       "1436"
      ]
     },
     "execution_count": 7,
     "metadata": {},
     "output_type": "execute_result"
    }
   ],
   "source": [
    "len(hvg_markers)"
   ]
  },
  {
   "cell_type": "code",
   "execution_count": 8,
   "id": "ab606020-5ea4-4a18-855c-4f5f5fa4d869",
   "metadata": {},
   "outputs": [],
   "source": [
    "fetal_liver = fetal_liver[:, hvg_markers]\n",
    "sorted_HSC= sorted_HSC[:, hvg_markers]"
   ]
  },
  {
   "cell_type": "code",
   "execution_count": 9,
   "id": "16955b88-645a-44d8-99e1-5816fb521e7e",
   "metadata": {},
   "outputs": [
    {
     "name": "stderr",
     "output_type": "stream",
     "text": [
      "/Users/anna.schaar/opt/miniconda3/envs/ncem/lib/python3.8/site-packages/mnnpy/utils.py:14: NumbaWarning: \u001b[1m\n",
      "Compilation is falling back to object mode WITH looplifting enabled because Function \"l2_norm\" failed type inference due to: \u001b[1m\u001b[1m\u001b[1mNo implementation of function Function(<function norm at 0x7fcf0caf75e0>) found for signature:\n",
      " \n",
      " >>> norm(x=array(float32, 2d, A), axis=Literal[int](1))\n",
      " \n",
      "There are 2 candidate implementations:\n",
      "\u001b[1m  - Of which 2 did not match due to:\n",
      "  Overload in function 'norm_impl': File: numba/np/linalg.py: Line 2352.\n",
      "    With argument(s): '(x=array(float32, 2d, A), axis=int64)':\u001b[0m\n",
      "\u001b[1m   Rejected as the implementation raised a specific error:\n",
      "     TypeError: norm_impl() got an unexpected keyword argument 'x'\u001b[0m\n",
      "  raised from /Users/anna.schaar/opt/miniconda3/envs/ncem/lib/python3.8/site-packages/numba/core/typing/templates.py:710\n",
      "\u001b[0m\n",
      "\u001b[0m\u001b[1mDuring: resolving callee type: Function(<function norm at 0x7fcf0caf75e0>)\u001b[0m\n",
      "\u001b[0m\u001b[1mDuring: typing of call at /Users/anna.schaar/opt/miniconda3/envs/ncem/lib/python3.8/site-packages/mnnpy/utils.py (16)\n",
      "\u001b[0m\n",
      "\u001b[1m\n",
      "File \"../../../opt/miniconda3/envs/ncem/lib/python3.8/site-packages/mnnpy/utils.py\", line 16:\u001b[0m\n",
      "\u001b[1mdef l2_norm(in_matrix):\n",
      "\u001b[1m    return np.linalg.norm(x=in_matrix, axis=1)\n",
      "\u001b[0m    \u001b[1m^\u001b[0m\u001b[0m\n",
      "\u001b[0m\n",
      "  @jit(float32[:](float32[:, :]), nogil=True)\n",
      "/Users/anna.schaar/opt/miniconda3/envs/ncem/lib/python3.8/site-packages/numba/core/object_mode_passes.py:177: NumbaWarning: \u001b[1mFunction \"l2_norm\" was compiled in object mode without forceobj=True.\n",
      "\u001b[1m\n",
      "File \"../../../opt/miniconda3/envs/ncem/lib/python3.8/site-packages/mnnpy/utils.py\", line 15:\u001b[0m\n",
      "\u001b[1m@jit(float32[:](float32[:, :]), nogil=True)\n",
      "\u001b[1mdef l2_norm(in_matrix):\n",
      "\u001b[0m\u001b[1m^\u001b[0m\u001b[0m\n",
      "\u001b[0m\n",
      "  warnings.warn(errors.NumbaWarning(warn_msg,\n",
      "/Users/anna.schaar/opt/miniconda3/envs/ncem/lib/python3.8/site-packages/numba/core/object_mode_passes.py:187: NumbaDeprecationWarning: \u001b[1m\n",
      "Fall-back from the nopython compilation path to the object mode compilation path has been detected, this is deprecated behaviour.\n",
      "\n",
      "For more information visit https://numba.pydata.org/numba-doc/latest/reference/deprecation.html#deprecation-of-object-mode-fall-back-behaviour-when-using-jit\n",
      "\u001b[1m\n",
      "File \"../../../opt/miniconda3/envs/ncem/lib/python3.8/site-packages/mnnpy/utils.py\", line 15:\u001b[0m\n",
      "\u001b[1m@jit(float32[:](float32[:, :]), nogil=True)\n",
      "\u001b[1mdef l2_norm(in_matrix):\n",
      "\u001b[0m\u001b[1m^\u001b[0m\u001b[0m\n",
      "\u001b[0m\n",
      "  warnings.warn(errors.NumbaDeprecationWarning(msg,\n",
      "/Users/anna.schaar/opt/miniconda3/envs/ncem/lib/python3.8/site-packages/mnnpy/utils.py:14: NumbaWarning: \u001b[1mCode running in object mode won't allow parallel execution despite nogil=True.\u001b[0m\n",
      "  @jit(float32[:](float32[:, :]), nogil=True)\n",
      "/Users/anna.schaar/opt/miniconda3/envs/ncem/lib/python3.8/site-packages/mnnpy/utils.py:29: NumbaPerformanceWarning: \u001b[1m\u001b[1mnp.dot() is faster on contiguous arrays, called on (array(float32, 1d, A), array(float32, 1d, A))\u001b[0m\u001b[0m\n",
      "  dist[i, j] = np.dot(m[i], n[j])\n",
      "/Users/anna.schaar/opt/miniconda3/envs/ncem/lib/python3.8/site-packages/mnnpy/utils.py:88: NumbaWarning: \u001b[1m\n",
      "Compilation is falling back to object mode WITH looplifting enabled because Function \"find_mutual_nn\" failed type inference due to: \u001b[1mUntyped global name 'cKDTree':\u001b[0m \u001b[1m\u001b[1mcannot determine Numba type of <class 'type'>\u001b[0m\n",
      "\u001b[1m\n",
      "File \"../../../opt/miniconda3/envs/ncem/lib/python3.8/site-packages/mnnpy/utils.py\", line 90:\u001b[0m\n",
      "\u001b[1mdef find_mutual_nn(data1, data2, k1, k2, n_jobs):\n",
      "\u001b[1m    k_index_1 = cKDTree(data1).query(x=data2, k=k1, n_jobs=n_jobs)[1]\n",
      "\u001b[0m    \u001b[1m^\u001b[0m\u001b[0m\n",
      "\u001b[0m\u001b[0m\n",
      "  @jit((float32[:, :], float32[:, :], int8, int8, int8))\n",
      "/Users/anna.schaar/opt/miniconda3/envs/ncem/lib/python3.8/site-packages/mnnpy/utils.py:88: NumbaWarning: \u001b[1m\n",
      "Compilation is falling back to object mode WITHOUT looplifting enabled because Function \"find_mutual_nn\" failed type inference due to: \u001b[1mUntyped global name 'cKDTree':\u001b[0m \u001b[1m\u001b[1mcannot determine Numba type of <class 'type'>\u001b[0m\n",
      "\u001b[1m\n",
      "File \"../../../opt/miniconda3/envs/ncem/lib/python3.8/site-packages/mnnpy/utils.py\", line 90:\u001b[0m\n",
      "\u001b[1mdef find_mutual_nn(data1, data2, k1, k2, n_jobs):\n",
      "\u001b[1m    k_index_1 = cKDTree(data1).query(x=data2, k=k1, n_jobs=n_jobs)[1]\n",
      "\u001b[0m    \u001b[1m^\u001b[0m\u001b[0m\n",
      "\u001b[0m\u001b[0m\n",
      "  @jit((float32[:, :], float32[:, :], int8, int8, int8))\n",
      "/Users/anna.schaar/opt/miniconda3/envs/ncem/lib/python3.8/site-packages/numba/core/object_mode_passes.py:177: NumbaWarning: \u001b[1mFunction \"find_mutual_nn\" was compiled in object mode without forceobj=True, but has lifted loops.\n",
      "\u001b[1m\n",
      "File \"../../../opt/miniconda3/envs/ncem/lib/python3.8/site-packages/mnnpy/utils.py\", line 90:\u001b[0m\n",
      "\u001b[1mdef find_mutual_nn(data1, data2, k1, k2, n_jobs):\n",
      "\u001b[1m    k_index_1 = cKDTree(data1).query(x=data2, k=k1, n_jobs=n_jobs)[1]\n",
      "\u001b[0m    \u001b[1m^\u001b[0m\u001b[0m\n",
      "\u001b[0m\n",
      "  warnings.warn(errors.NumbaWarning(warn_msg,\n",
      "/Users/anna.schaar/opt/miniconda3/envs/ncem/lib/python3.8/site-packages/numba/core/object_mode_passes.py:187: NumbaDeprecationWarning: \u001b[1m\n",
      "Fall-back from the nopython compilation path to the object mode compilation path has been detected, this is deprecated behaviour.\n",
      "\n",
      "For more information visit https://numba.pydata.org/numba-doc/latest/reference/deprecation.html#deprecation-of-object-mode-fall-back-behaviour-when-using-jit\n",
      "\u001b[1m\n",
      "File \"../../../opt/miniconda3/envs/ncem/lib/python3.8/site-packages/mnnpy/utils.py\", line 90:\u001b[0m\n",
      "\u001b[1mdef find_mutual_nn(data1, data2, k1, k2, n_jobs):\n",
      "\u001b[1m    k_index_1 = cKDTree(data1).query(x=data2, k=k1, n_jobs=n_jobs)[1]\n",
      "\u001b[0m    \u001b[1m^\u001b[0m\u001b[0m\n",
      "\u001b[0m\n",
      "  warnings.warn(errors.NumbaDeprecationWarning(msg,\n",
      "/Users/anna.schaar/opt/miniconda3/envs/ncem/lib/python3.8/site-packages/mnnpy/utils.py:102: NumbaWarning: \u001b[1m\n",
      "Compilation is falling back to object mode WITH looplifting enabled because Function \"compute_correction\" failed type inference due to: \u001b[1m\u001b[1m\u001b[1mNo implementation of function Function(<function unique at 0x7fcf0cb5c310>) found for signature:\n",
      " \n",
      " >>> unique(array(int32, 1d, A), return_counts=bool)\n",
      " \n",
      "There are 2 candidate implementations:\n",
      "\u001b[1m  - Of which 2 did not match due to:\n",
      "  Overload in function 'np_unique': File: numba/np/arrayobj.py: Line 1915.\n",
      "    With argument(s): '(array(int32, 1d, A), return_counts=bool)':\u001b[0m\n",
      "\u001b[1m   Rejected as the implementation raised a specific error:\n",
      "     TypeError: np_unique() got an unexpected keyword argument 'return_counts'\u001b[0m\n",
      "  raised from /Users/anna.schaar/opt/miniconda3/envs/ncem/lib/python3.8/site-packages/numba/core/typing/templates.py:710\n",
      "\u001b[0m\n",
      "\u001b[0m\u001b[1mDuring: resolving callee type: Function(<function unique at 0x7fcf0cb5c310>)\u001b[0m\n",
      "\u001b[0m\u001b[1mDuring: typing of call at /Users/anna.schaar/opt/miniconda3/envs/ncem/lib/python3.8/site-packages/mnnpy/utils.py (105)\n",
      "\u001b[0m\n",
      "\u001b[1m\n",
      "File \"../../../opt/miniconda3/envs/ncem/lib/python3.8/site-packages/mnnpy/utils.py\", line 105:\u001b[0m\n",
      "\u001b[1mdef compute_correction(data1, data2, mnn1, mnn2, data2_or_raw2, sigma):\n",
      "    <source elided>\n",
      "    vect = data1[mnn1] - data2[mnn2]\n",
      "\u001b[1m    mnn_index, mnn_count = np.unique(mnn2, return_counts=True)\n",
      "\u001b[0m    \u001b[1m^\u001b[0m\u001b[0m\n",
      "\u001b[0m\n",
      "  @jit(float32[:, :](float32[:, :], float32[:, :], int32[:], int32[:], float32[:, :], float32))\n",
      "/Users/anna.schaar/opt/miniconda3/envs/ncem/lib/python3.8/site-packages/mnnpy/utils.py:102: NumbaWarning: \u001b[1m\n",
      "Compilation is falling back to object mode WITHOUT looplifting enabled because Function \"compute_correction\" failed type inference due to: \u001b[1m\u001b[1mcannot determine Numba type of <class 'numba.core.dispatcher.LiftedLoop'>\u001b[0m\n",
      "\u001b[1m\n",
      "File \"../../../opt/miniconda3/envs/ncem/lib/python3.8/site-packages/mnnpy/utils.py\", line 107:\u001b[0m\n",
      "\u001b[1mdef compute_correction(data1, data2, mnn1, mnn2, data2_or_raw2, sigma):\n",
      "    <source elided>\n",
      "    vect_reduced = np.zeros((data2.shape[0], vect.shape[1]), dtype=np.float32)\n",
      "\u001b[1m    for index, ve in zip(mnn2, vect):\n",
      "\u001b[0m    \u001b[1m^\u001b[0m\u001b[0m\n",
      "\u001b[0m\u001b[0m\n",
      "  @jit(float32[:, :](float32[:, :], float32[:, :], int32[:], int32[:], float32[:, :], float32))\n",
      "/Users/anna.schaar/opt/miniconda3/envs/ncem/lib/python3.8/site-packages/numba/core/object_mode_passes.py:177: NumbaWarning: \u001b[1mFunction \"compute_correction\" was compiled in object mode without forceobj=True, but has lifted loops.\n",
      "\u001b[1m\n",
      "File \"../../../opt/miniconda3/envs/ncem/lib/python3.8/site-packages/mnnpy/utils.py\", line 104:\u001b[0m\n",
      "\u001b[1mdef compute_correction(data1, data2, mnn1, mnn2, data2_or_raw2, sigma):\n",
      "\u001b[1m    vect = data1[mnn1] - data2[mnn2]\n",
      "\u001b[0m    \u001b[1m^\u001b[0m\u001b[0m\n",
      "\u001b[0m\n",
      "  warnings.warn(errors.NumbaWarning(warn_msg,\n",
      "/Users/anna.schaar/opt/miniconda3/envs/ncem/lib/python3.8/site-packages/numba/core/object_mode_passes.py:187: NumbaDeprecationWarning: \u001b[1m\n",
      "Fall-back from the nopython compilation path to the object mode compilation path has been detected, this is deprecated behaviour.\n",
      "\n",
      "For more information visit https://numba.pydata.org/numba-doc/latest/reference/deprecation.html#deprecation-of-object-mode-fall-back-behaviour-when-using-jit\n",
      "\u001b[1m\n",
      "File \"../../../opt/miniconda3/envs/ncem/lib/python3.8/site-packages/mnnpy/utils.py\", line 104:\u001b[0m\n",
      "\u001b[1mdef compute_correction(data1, data2, mnn1, mnn2, data2_or_raw2, sigma):\n",
      "\u001b[1m    vect = data1[mnn1] - data2[mnn2]\n",
      "\u001b[0m    \u001b[1m^\u001b[0m\u001b[0m\n",
      "\u001b[0m\n",
      "  warnings.warn(errors.NumbaDeprecationWarning(msg,\n",
      "/Users/anna.schaar/opt/miniconda3/envs/ncem/lib/python3.8/site-packages/mnnpy/utils.py:199: NumbaWarning: \u001b[1m\n",
      "Compilation is falling back to object mode WITH looplifting enabled because Function \"adjust_s_variance\" failed type inference due to: \u001b[1mNameError: name 'sq_dist_to_line' is not defined\u001b[0m\u001b[0m\n",
      "  @jit(float32(float32[:, :], float32[:, :], float32[:], float32[:], float32), nogil=True)\n",
      "/Users/anna.schaar/opt/miniconda3/envs/ncem/lib/python3.8/site-packages/mnnpy/utils.py:199: NumbaWarning: \u001b[1m\n",
      "Compilation is falling back to object mode WITHOUT looplifting enabled because Function \"adjust_s_variance\" failed type inference due to: \u001b[1m\u001b[1mcannot determine Numba type of <class 'numba.core.dispatcher.LiftedLoop'>\u001b[0m\n",
      "\u001b[1m\n",
      "File \"../../../opt/miniconda3/envs/ncem/lib/python3.8/site-packages/mnnpy/utils.py\", line 207:\u001b[0m\n",
      "\u001b[1mdef adjust_s_variance(data1, data2, curcell, curvect, sigma):\n",
      "    <source elided>\n",
      "    totalprob2 = 0.\n",
      "\u001b[1m    for samecell in data2:\n",
      "\u001b[0m    \u001b[1m^\u001b[0m\u001b[0m\n",
      "\u001b[0m\u001b[0m\n",
      "  @jit(float32(float32[:, :], float32[:, :], float32[:], float32[:], float32), nogil=True)\n",
      "/Users/anna.schaar/opt/miniconda3/envs/ncem/lib/python3.8/site-packages/numba/core/object_mode_passes.py:177: NumbaWarning: \u001b[1mFunction \"adjust_s_variance\" was compiled in object mode without forceobj=True, but has lifted loops.\n",
      "\u001b[1m\n",
      "File \"../../../opt/miniconda3/envs/ncem/lib/python3.8/site-packages/mnnpy/utils.py\", line 201:\u001b[0m\n",
      "\u001b[1mdef adjust_s_variance(data1, data2, curcell, curvect, sigma):\n",
      "\u001b[1m    distance1 = np.zeros((data1.shape[0], 2), dtype=np.float32)\n",
      "\u001b[0m    \u001b[1m^\u001b[0m\u001b[0m\n",
      "\u001b[0m\n",
      "  warnings.warn(errors.NumbaWarning(warn_msg,\n",
      "/Users/anna.schaar/opt/miniconda3/envs/ncem/lib/python3.8/site-packages/numba/core/object_mode_passes.py:187: NumbaDeprecationWarning: \u001b[1m\n",
      "Fall-back from the nopython compilation path to the object mode compilation path has been detected, this is deprecated behaviour.\n",
      "\n",
      "For more information visit https://numba.pydata.org/numba-doc/latest/reference/deprecation.html#deprecation-of-object-mode-fall-back-behaviour-when-using-jit\n",
      "\u001b[1m\n",
      "File \"../../../opt/miniconda3/envs/ncem/lib/python3.8/site-packages/mnnpy/utils.py\", line 201:\u001b[0m\n",
      "\u001b[1mdef adjust_s_variance(data1, data2, curcell, curvect, sigma):\n",
      "\u001b[1m    distance1 = np.zeros((data1.shape[0], 2), dtype=np.float32)\n",
      "\u001b[0m    \u001b[1m^\u001b[0m\u001b[0m\n",
      "\u001b[0m\n",
      "  warnings.warn(errors.NumbaDeprecationWarning(msg,\n",
      "/Users/anna.schaar/opt/miniconda3/envs/ncem/lib/python3.8/site-packages/mnnpy/utils.py:199: NumbaWarning: \u001b[1mCode running in object mode won't allow parallel execution despite nogil=True.\u001b[0m\n",
      "  @jit(float32(float32[:, :], float32[:, :], float32[:], float32[:], float32), nogil=True)\n",
      "/Users/anna.schaar/opt/miniconda3/envs/ncem/lib/python3.8/site-packages/mnnpy/utils.py:238: NumbaPerformanceWarning: \u001b[1m\u001b[1mnp.dot() is faster on contiguous arrays, called on (array(float32, 1d, C), array(float32, 1d, A))\u001b[0m\u001b[0m\n",
      "  scale = np.dot(working, grad)\n"
     ]
    },
    {
     "name": "stdout",
     "output_type": "stream",
     "text": [
      "Performing cosine normalization...\n",
      "Starting MNN correct iteration. Reference batch: 0\n",
      "Step 1 of 1: processing batch 1\n",
      "  Looking for MNNs...\n"
     ]
    },
    {
     "name": "stderr",
     "output_type": "stream",
     "text": [
      "/Users/anna.schaar/opt/miniconda3/envs/ncem/lib/python3.8/site-packages/mnnpy/utils.py:88: NumbaWarning: \u001b[1m\n",
      "Compilation is falling back to object mode WITHOUT looplifting enabled because Function \"find_mutual_nn\" failed type inference due to: \u001b[1m\u001b[1mnon-precise type pyobject\u001b[0m\n",
      "\u001b[0m\u001b[1mDuring: typing of argument at /Users/anna.schaar/opt/miniconda3/envs/ncem/lib/python3.8/site-packages/mnnpy/utils.py (94)\u001b[0m\n",
      "\u001b[1m\n",
      "File \"../../../opt/miniconda3/envs/ncem/lib/python3.8/site-packages/mnnpy/utils.py\", line 94:\u001b[0m\n",
      "\u001b[1mdef find_mutual_nn(data1, data2, k1, k2, n_jobs):\n",
      "    <source elided>\n",
      "    mutual_2 = []\n",
      "\u001b[1m    for index_2 in range(data2.shape[0]):\n",
      "\u001b[0m    \u001b[1m^\u001b[0m\u001b[0m\n",
      "\u001b[0m\n",
      "  @jit((float32[:, :], float32[:, :], int8, int8, int8))\n",
      "/Users/anna.schaar/opt/miniconda3/envs/ncem/lib/python3.8/site-packages/numba/core/object_mode_passes.py:177: NumbaWarning: \u001b[1mFunction \"find_mutual_nn\" was compiled in object mode without forceobj=True.\n",
      "\u001b[1m\n",
      "File \"../../../opt/miniconda3/envs/ncem/lib/python3.8/site-packages/mnnpy/utils.py\", line 94:\u001b[0m\n",
      "\u001b[1mdef find_mutual_nn(data1, data2, k1, k2, n_jobs):\n",
      "    <source elided>\n",
      "    mutual_2 = []\n",
      "\u001b[1m    for index_2 in range(data2.shape[0]):\n",
      "\u001b[0m    \u001b[1m^\u001b[0m\u001b[0m\n",
      "\u001b[0m\n",
      "  warnings.warn(errors.NumbaWarning(warn_msg,\n",
      "/Users/anna.schaar/opt/miniconda3/envs/ncem/lib/python3.8/site-packages/numba/core/object_mode_passes.py:187: NumbaDeprecationWarning: \u001b[1m\n",
      "Fall-back from the nopython compilation path to the object mode compilation path has been detected, this is deprecated behaviour.\n",
      "\n",
      "For more information visit https://numba.pydata.org/numba-doc/latest/reference/deprecation.html#deprecation-of-object-mode-fall-back-behaviour-when-using-jit\n",
      "\u001b[1m\n",
      "File \"../../../opt/miniconda3/envs/ncem/lib/python3.8/site-packages/mnnpy/utils.py\", line 94:\u001b[0m\n",
      "\u001b[1mdef find_mutual_nn(data1, data2, k1, k2, n_jobs):\n",
      "    <source elided>\n",
      "    mutual_2 = []\n",
      "\u001b[1m    for index_2 in range(data2.shape[0]):\n",
      "\u001b[0m    \u001b[1m^\u001b[0m\u001b[0m\n",
      "\u001b[0m\n",
      "  warnings.warn(errors.NumbaDeprecationWarning(msg,\n"
     ]
    },
    {
     "name": "stdout",
     "output_type": "stream",
     "text": [
      "  Computing correction vectors...\n"
     ]
    },
    {
     "name": "stderr",
     "output_type": "stream",
     "text": [
      "/Users/anna.schaar/opt/miniconda3/envs/ncem/lib/python3.8/site-packages/mnnpy/utils.py:102: NumbaWarning: \u001b[1m\n",
      "Compilation is falling back to object mode WITHOUT looplifting enabled because Function \"compute_correction\" failed type inference due to: \u001b[1m\u001b[1mnon-precise type pyobject\u001b[0m\n",
      "\u001b[0m\u001b[1mDuring: typing of argument at /Users/anna.schaar/opt/miniconda3/envs/ncem/lib/python3.8/site-packages/mnnpy/utils.py (107)\u001b[0m\n",
      "\u001b[1m\n",
      "File \"../../../opt/miniconda3/envs/ncem/lib/python3.8/site-packages/mnnpy/utils.py\", line 107:\u001b[0m\n",
      "\u001b[1mdef compute_correction(data1, data2, mnn1, mnn2, data2_or_raw2, sigma):\n",
      "    <source elided>\n",
      "    vect_reduced = np.zeros((data2.shape[0], vect.shape[1]), dtype=np.float32)\n",
      "\u001b[1m    for index, ve in zip(mnn2, vect):\n",
      "\u001b[0m    \u001b[1m^\u001b[0m\u001b[0m\n",
      "\u001b[0m\n",
      "  @jit(float32[:, :](float32[:, :], float32[:, :], int32[:], int32[:], float32[:, :], float32))\n",
      "/Users/anna.schaar/opt/miniconda3/envs/ncem/lib/python3.8/site-packages/numba/core/object_mode_passes.py:177: NumbaWarning: \u001b[1mFunction \"compute_correction\" was compiled in object mode without forceobj=True.\n",
      "\u001b[1m\n",
      "File \"../../../opt/miniconda3/envs/ncem/lib/python3.8/site-packages/mnnpy/utils.py\", line 107:\u001b[0m\n",
      "\u001b[1mdef compute_correction(data1, data2, mnn1, mnn2, data2_or_raw2, sigma):\n",
      "    <source elided>\n",
      "    vect_reduced = np.zeros((data2.shape[0], vect.shape[1]), dtype=np.float32)\n",
      "\u001b[1m    for index, ve in zip(mnn2, vect):\n",
      "\u001b[0m    \u001b[1m^\u001b[0m\u001b[0m\n",
      "\u001b[0m\n",
      "  warnings.warn(errors.NumbaWarning(warn_msg,\n",
      "/Users/anna.schaar/opt/miniconda3/envs/ncem/lib/python3.8/site-packages/numba/core/object_mode_passes.py:187: NumbaDeprecationWarning: \u001b[1m\n",
      "Fall-back from the nopython compilation path to the object mode compilation path has been detected, this is deprecated behaviour.\n",
      "\n",
      "For more information visit https://numba.pydata.org/numba-doc/latest/reference/deprecation.html#deprecation-of-object-mode-fall-back-behaviour-when-using-jit\n",
      "\u001b[1m\n",
      "File \"../../../opt/miniconda3/envs/ncem/lib/python3.8/site-packages/mnnpy/utils.py\", line 107:\u001b[0m\n",
      "\u001b[1mdef compute_correction(data1, data2, mnn1, mnn2, data2_or_raw2, sigma):\n",
      "    <source elided>\n",
      "    vect_reduced = np.zeros((data2.shape[0], vect.shape[1]), dtype=np.float32)\n",
      "\u001b[1m    for index, ve in zip(mnn2, vect):\n",
      "\u001b[0m    \u001b[1m^\u001b[0m\u001b[0m\n",
      "\u001b[0m\n",
      "  warnings.warn(errors.NumbaDeprecationWarning(msg,\n"
     ]
    },
    {
     "name": "stdout",
     "output_type": "stream",
     "text": [
      "  Adjusting variance...\n",
      "  Applying correction...\n",
      "MNN correction complete. Gathering output...\n",
      "Packing AnnData object...\n",
      "Done.\n"
     ]
    }
   ],
   "source": [
    "scRNAseq = sc.external.pp.mnn_correct(fetal_liver, sorted_HSC, do_concatenate=True)[0]"
   ]
  },
  {
   "cell_type": "code",
   "execution_count": 11,
   "id": "0ac3537a-f9c0-43cf-9f8b-246c79328d90",
   "metadata": {},
   "outputs": [],
   "source": [
    "\n",
    "scRNAseq.write(datadir+\"lu/mnn_corrected_fetal_liver.h5ad\")"
   ]
  },
  {
   "cell_type": "code",
   "execution_count": 12,
   "id": "b1e1c0b5-9cac-493d-8512-8194cc637dbc",
   "metadata": {},
   "outputs": [
    {
     "name": "stdout",
     "output_type": "stream",
     "text": [
      "Loading data from raw files\n",
      "registering celldata\n"
     ]
    },
    {
     "name": "stderr",
     "output_type": "stream",
     "text": [
      "/Users/anna.schaar/opt/miniconda3/envs/ncem/lib/python3.8/site-packages/anndata/_core/anndata.py:120: ImplicitModificationWarning: Transforming to str index.\n",
      "  warnings.warn(\"Transforming to str index.\", ImplicitModificationWarning)\n",
      "  0%|          | 0/140 [00:00<?, ?it/s]"
     ]
    },
    {
     "name": "stdout",
     "output_type": "stream",
     "text": [
      "['AEC', 'Erythroid cell', 'Erythroid progenitor', 'Hepatocyte', 'MK', 'Macrophage', 'Myeloid', 'SEC', 'Unknown']\n",
      "collecting image-wise celldata\n",
      "adding graph-level covariates\n"
     ]
    },
    {
     "name": "stderr",
     "output_type": "stream",
     "text": [
      "100%|██████████| 140/140 [00:00<00:00, 247.18it/s]"
     ]
    },
    {
     "name": "stdout",
     "output_type": "stream",
     "text": [
      "Loaded 140 images with complete data from 1 patients over 40864 cells with 132 cell features and 9 distinct celltypes.\n",
      "Mean of mean node degree per images across images: 16.576537\n",
      "\n",
      " Celldata metadata: {'lateral_resolution': 0.1079, 'fn': 'FinalClusteringResults 190517 WT.csv', 'image_col': 'FOV', 'pos_cols': ['Center_x', 'Center_y'], 'cluster_col': 'CellTypeID_new', 'cluster_col_preprocessed': 'CellTypeID_new_preprocessed', 'scRNAseq_fn': ['fetal_liver.h5ad', 'sorted_HSC.h5ad']}\n"
     ]
    },
    {
     "name": "stderr",
     "output_type": "stream",
     "text": [
      "\n"
     ]
    }
   ],
   "source": [
    "interpreter = ncem.interpretation.interpreter.InterpreterGraph()\n",
    "interpreter.get_data(\n",
    "    data_path=datadir + '/lu/',\n",
    "    data_origin='luwt',\n",
    "    radius=200,\n",
    "    node_label_space_id='type',\n",
    "    node_feature_space_id='standard',\n",
    ")\n",
    "print('\\n Celldata metadata:', interpreter.data.celldata.uns['metadata'])\n"
   ]
  },
  {
   "cell_type": "code",
   "execution_count": 13,
   "id": "01f7947f-0d19-4a06-b522-3c9af9d299d3",
   "metadata": {},
   "outputs": [],
   "source": [
    "merfish = interpreter.data.celldata"
   ]
  },
  {
   "cell_type": "code",
   "execution_count": 14,
   "id": "c264f56d-e3eb-4f3b-990a-e0143c2a4a12",
   "metadata": {},
   "outputs": [],
   "source": [
    "merfish = interpreter.data.celldata\n",
    "sc.pp.normalize_total(merfish, target_sum=1e5)\n",
    "sc.pp.log1p(merfish)"
   ]
  },
  {
   "cell_type": "code",
   "execution_count": 15,
   "id": "541986ac-b5fc-42c2-bf14-24504f55b914",
   "metadata": {},
   "outputs": [],
   "source": [
    "merfish_markers = list(set.intersection(set(merfish.var_names), set(scRNAseq.var_names)))"
   ]
  },
  {
   "cell_type": "code",
   "execution_count": 16,
   "id": "f4f9bd47-4667-47fc-9478-f2cefcb42235",
   "metadata": {},
   "outputs": [],
   "source": [
    "scRNAseq_merfish = scRNAseq[:,merfish_markers]\n",
    "merfish = merfish[:,merfish_markers]"
   ]
  },
  {
   "cell_type": "code",
   "execution_count": null,
   "id": "f688c7e0-2261-4f41-bd57-dc43ae7c0a66",
   "metadata": {},
   "outputs": [
    {
     "name": "stdout",
     "output_type": "stream",
     "text": [
      "Performing cosine normalization...\n",
      "Starting MNN correct iteration. Reference batch: 0\n",
      "Step 1 of 1: processing batch 1\n",
      "  Looking for MNNs...\n"
     ]
    }
   ],
   "source": [
    "imputed_merfish = sc.external.pp.mnn_correct(merfish, scRNAseq_merfish, do_concatenate=False)"
   ]
  },
  {
   "cell_type": "code",
   "execution_count": 8,
   "id": "9953c3a2-ed67-4b8d-a406-0d8a7896fa53",
   "metadata": {},
   "outputs": [],
   "source": [
    "imputed_merfish = imputed_adata[0][1]\n",
    "imputed_scRNAseq = imputed_adata[0][0]"
   ]
  },
  {
   "cell_type": "code",
   "execution_count": 9,
   "id": "ba84ce2f-a05c-4c60-8570-86d06a987b3c",
   "metadata": {},
   "outputs": [
    {
     "data": {
      "text/plain": [
       "View of AnnData object with n_obs × n_vars = 7788 × 131\n",
       "    obs: 'n_counts', 'log_counts', 'n_genes', 'mt_frac'\n",
       "    var: 'chozen_isoform', 'code', 'n_cells'"
      ]
     },
     "execution_count": 9,
     "metadata": {},
     "output_type": "execute_result"
    }
   ],
   "source": [
    "imputed_scRNAseq"
   ]
  },
  {
   "cell_type": "code",
   "execution_count": 10,
   "id": "93e1e182-cc0f-49b6-8211-1f114dbdf5da",
   "metadata": {},
   "outputs": [],
   "source": [
    "tree = KDTree(imputed_scRNAseq.X)\n",
    "dd, ii = tree.query(imputed_merfish.X, k=25)"
   ]
  },
  {
   "cell_type": "code",
   "execution_count": 11,
   "id": "00ff63e8-3222-4fac-b510-cef918acdb27",
   "metadata": {},
   "outputs": [],
   "source": [
    "imputed_full_transciptome = []\n",
    "for i in range(imputed_merfish.shape[0]):\n",
    "    imputed_full_transciptome.append(np.mean(scRNAseq[ii[i]].X, axis=0)[np.newaxis, :])"
   ]
  },
  {
   "cell_type": "code",
   "execution_count": 12,
   "id": "3c342025-f9c0-47da-aac3-385e51354993",
   "metadata": {},
   "outputs": [],
   "source": [
    "imputed_full_transciptome = np.concatenate(imputed_full_transciptome)"
   ]
  },
  {
   "cell_type": "code",
   "execution_count": 13,
   "id": "139d4499-2622-4105-9fe8-48ae4a6532b3",
   "metadata": {},
   "outputs": [],
   "source": [
    "from anndata import AnnData\n",
    "import pandas as pd\n",
    "merfish_full_transcriptome = AnnData(\n",
    "    X=pd.DataFrame(imputed_full_transciptome, columns=scRNAseq.var_names), \n",
    "    obs=imputed_merfish.obs\n",
    ")"
   ]
  },
  {
   "cell_type": "code",
   "execution_count": 14,
   "id": "bcf835e8-81ea-44a8-9ba0-d3af11e9126e",
   "metadata": {},
   "outputs": [
    {
     "data": {
      "text/plain": [
       "(40864, 131)"
      ]
     },
     "execution_count": 14,
     "metadata": {},
     "output_type": "execute_result"
    }
   ],
   "source": [
    "merfish_full_transcriptome.shape"
   ]
  },
  {
   "cell_type": "code",
   "execution_count": 35,
   "id": "e9864572-1ce0-4610-bd6d-aa8320bb7237",
   "metadata": {},
   "outputs": [],
   "source": [
    "merfish_check = pd.DataFrame(merfish[:,merfish_markers].X, columns=merfish_markers)\n",
    "merfish_check['CellTypeID_new_preprocessed'] = list(merfish.obs['CellTypeID_new_preprocessed'])\n",
    "\n",
    "test_2 = pd.DataFrame(\n",
    "    merfish_check.groupby('CellTypeID_new_preprocessed').mean().T.reset_index().rename(columns={'CellTypeID_new_preprocessed': 'index', 'index':'gene'}).set_index('gene').stack()\n",
    ").rename(columns={0: 'expression'})\n",
    "test_2['CellTypeID_new_preprocessed'] = test_2.index.get_level_values(1)\n",
    "test_2['sample']='MERFISH'"
   ]
  },
  {
   "cell_type": "code",
   "execution_count": 36,
   "id": "0e7c530a-07a0-4e1f-bf15-a1c7e866f7ca",
   "metadata": {},
   "outputs": [],
   "source": [
    "merfish_ft_check = pd.DataFrame(merfish_full_transcriptome[:,merfish_markers].X, columns=merfish_markers)\n",
    "merfish_ft_check['CellTypeID_new_preprocessed'] = list(merfish_full_transcriptome.obs['CellTypeID_new_preprocessed'])\n",
    "\n",
    "test = pd.DataFrame(\n",
    "    merfish_ft_check.groupby('CellTypeID_new_preprocessed').mean().T.reset_index().rename(columns={'CellTypeID_new_preprocessed': 'index', 'index':'gene'}).set_index('gene').stack()\n",
    ").rename(columns={0: 'expression'})\n",
    "\n",
    "test['CellTypeID_new_preprocessed'] = test.index.get_level_values(1)\n",
    "test['sample']='imputed MERFISH'"
   ]
  },
  {
   "cell_type": "code",
   "execution_count": 37,
   "id": "e537f34c-e25c-4b1a-9aa9-19429ff9d3f9",
   "metadata": {},
   "outputs": [],
   "source": [
    "check = pd.concat([test, test_2])"
   ]
  },
  {
   "cell_type": "code",
   "execution_count": 38,
   "id": "518b8427-a823-40a7-b344-dd064aebe2f2",
   "metadata": {},
   "outputs": [],
   "source": [
    "check = check[check['CellTypeID_new_preprocessed'] != 'Unknown']"
   ]
  },
  {
   "cell_type": "code",
   "execution_count": 40,
   "id": "b9937649-19b9-4c04-aaaf-a818078e6d9a",
   "metadata": {},
   "outputs": [
    {
     "data": {
      "image/png": "[encoded data removed]",
      "text/plain": [
       "<Figure size 504x288 with 1 Axes>"
      ]
     },
     "metadata": {},
     "output_type": "display_data"
    }
   ],
   "source": [
    "import seaborn as sns\n",
    "import matplotlib.pyplot as plt\n",
    "fig, ax = plt.subplots(1,1, figsize=(7,4))\n",
    "sns.violinplot(\n",
    "    data=check, x='CellTypeID_new_preprocessed', \n",
    "    y='expression', inner=\"quart\", hue=\"sample\", \n",
    "    split=True, linewidth=1, ax=ax,\n",
    "    palette={\"imputed MERFISH\": \"b\", \"MERFISH\": \".85\"}\n",
    ")\n",
    "ax.grid(False)\n",
    "plt.xticks(rotation=90)\n",
    "plt.show()"
   ]
  },
  {
   "cell_type": "code",
   "execution_count": 19,
   "id": "b841b9d5-7fec-4ad4-b652-ebcedeac5daf",
   "metadata": {},
   "outputs": [],
   "source": [
    "merfish_full_transcriptome.obsm['spatial']=np.array(merfish_full_transcriptome.obs[['Center_x', 'Center_y']])"
   ]
  },
  {
   "cell_type": "code",
   "execution_count": 34,
   "id": "edb31a12-ea3f-4ebb-9743-5260a9f889ba",
   "metadata": {},
   "outputs": [
    {
     "data": {
      "image/png": "[encoded data removed]",
      "text/plain": [
       "<Figure size 864x360 with 1 Axes>"
      ]
     },
     "metadata": {},
     "output_type": "display_data"
    }
   ],
   "source": [
    "merfish_check = pd.DataFrame(imputed_merfish[:,merfish_markers].X, columns=merfish_markers)\n",
    "merfish_check['CellTypeID_new_preprocessed'] = list(merfish.obs['CellTypeID_new_preprocessed'])\n",
    "\n",
    "test_2 = pd.DataFrame(\n",
    "    merfish_check.groupby('CellTypeID_new_preprocessed').mean().T.reset_index().rename(columns={'CellTypeID_new_preprocessed': 'index', 'index':'gene'}).set_index('gene').stack()\n",
    ").rename(columns={0: 'expression'})\n",
    "test_2['CellTypeID_new_preprocessed'] = test_2.index.get_level_values(1)\n",
    "test_2['sample']='MERFISH'\n",
    "\n",
    "merfish_ft_check = pd.DataFrame(merfish_full_transcriptome[:,merfish_markers].X, columns=merfish_markers)\n",
    "merfish_ft_check['CellTypeID_new_preprocessed'] = list(merfish_full_transcriptome.obs['CellTypeID_new_preprocessed'])\n",
    "\n",
    "test = pd.DataFrame(\n",
    "    merfish_ft_check.groupby('CellTypeID_new_preprocessed').mean().T.reset_index().rename(columns={'CellTypeID_new_preprocessed': 'index', 'index':'gene'}).set_index('gene').stack()\n",
    ").rename(columns={0: 'expression'})\n",
    "\n",
    "test['CellTypeID_new_preprocessed'] = test.index.get_level_values(1)\n",
    "test['sample']='imputed MERFISH'\n",
    "\n",
    "check = pd.concat([test, test_2])\n",
    "\n",
    "fig, ax = plt.subplots(1,1, figsize=(12,5))\n",
    "sns.violinplot(data=check, x='CellTypeID_new_preprocessed', y='expression', inner=\"quart\", hue=\"sample\", split=True, linewidth=1,ax=ax)\n",
    "plt.xticks(rotation=90)\n",
    "plt.show()"
   ]
  }
 ],
 "metadata": {
  "kernelspec": {
   "display_name": "Python 3",
   "language": "python",
   "name": "python3"
  },
  "language_info": {
   "codemirror_mode": {
    "name": "ipython",
    "version": 3
   },
   "file_extension": ".py",
   "mimetype": "text/x-python",
   "name": "python",
   "nbconvert_exporter": "python",
   "pygments_lexer": "ipython3",
   "version": "3.8.10"
  }
 },
 "nbformat": 4,
 "nbformat_minor": 5
}

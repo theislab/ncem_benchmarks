{
 "cells": [
  {
   "cell_type": "code",
   "execution_count": 1,
   "id": "adb17d8f-a40d-4c1e-8ddb-f2d3b9b221fa",
   "metadata": {},
   "outputs": [],
   "source": [
    "%load_ext autoreload\n",
    "%autoreload 2\n",
    "\n",
    "import ncem\n",
    "\n",
    "import matplotlib.pyplot as plt\n",
    "import scanpy as sc\n",
    "import numpy as np\n",
    "import pickle\n",
    "import pandas as pd\n",
    "from scipy.stats import ttest_rel, ttest_ind\n",
    "from scipy import sparse, stats\n",
    "\n",
    "grid_search_dir = '.'\n",
    "datadir = '.'\n",
    "\n",
    "datadir = '/storage/groups/ml01/workspace/anna.schaar/tissue/data/'\n",
    "grid_search_dir = '/storage/groups/ml01/workspace/anna.schaar/tissue/grid_searches_gen/'"
   ]
  },
  {
   "cell_type": "code",
   "execution_count": 2,
   "id": "a97e8342-ed11-4c81-adb2-82290c6dd7c7",
   "metadata": {},
   "outputs": [
    {
     "name": "stdout",
     "output_type": "stream",
     "text": [
      "210511_INTERACTIONS_MAX_NODES_PATIENT_1_ZHANG: loaded 8 runs with 3-fold cross validation\n",
      "cross-validation selected: cv1\n",
      "loaded model 210511_interactions_max_nodes_patient_1_zhang_adam_lr1_agrFalse_predecTrue_bs0_md4_tk4_n10_fsstandard_ldi1_ei1_di1_ede1_dde1_dr1_l2N_l1N_COND_cde1_cbTrue_cdi1_cdr1_cnh1_cl21\n",
      "Loading data from raw files\n",
      "registering celldata\n",
      "collecting image-wise celldata\n",
      "adding graph-level covariates\n"
     ]
    },
    {
     "name": "stderr",
     "output_type": "stream",
     "text": [
      "100%|█████████████████████████████████████████████████████████████████████████████████████████████████████████████| 64/64 [00:07<00:00,  8.29it/s]\n"
     ]
    },
    {
     "name": "stdout",
     "output_type": "stream",
     "text": [
      "Loaded 64 images with complete data from 2 patients over 280327 cells with 254 cell features and 25 distinct celltypes.\n",
      "Mean of mean node degree per images across images: 40.670611\n",
      "cross-validation selected: cv1\n"
     ]
    },
    {
     "name": "stderr",
     "output_type": "stream",
     "text": [
      "2022-02-15 12:12:16.638482: I tensorflow/core/platform/cpu_feature_guard.cc:151] This TensorFlow binary is optimized with oneAPI Deep Neural Network Library (oneDNN) to use the following CPU instructions in performance-critical operations:  AVX2 AVX512F FMA\n",
      "To enable them in other operations, rebuild TensorFlow with the appropriate compiler flags.\n",
      "2022-02-15 12:12:17.233260: I tensorflow/core/common_runtime/gpu/gpu_device.cc:1525] Created device /job:localhost/replica:0/task:0/device:GPU:0 with 351 MB memory:  -> device: 0, name: Tesla V100-PCIE-16GB, pci bus id: 0000:3b:00.0, compute capability: 7.0\n"
     ]
    }
   ],
   "source": [
    "clm = ncem.interpretation.InterpreterInteraction()\n",
    "clm.load_model(\n",
    "    results_path=grid_search_dir,\n",
    "    gs_id=\"210511_INTERACTIONS_MAX_NODES_PATIENT_1_ZHANG\",\n",
    "    cv_idx=1,\n",
    "    model_id='210511_interactions_max_nodes_patient_1_zhang_adam_lr1_agrFalse_predecTrue_bs0_md4_tk4_n10_fsstandard_ldi1_ei1_di1_ede1_dde1_dr1_l2N_l1N_COND_cde1_cbTrue_cdi1_cdr1_cnh1_cl21',\n",
    ")\n",
    "clm.get_data_again(data_path=datadir + \"zhang/\", data_origin=\"zhang\")\n",
    "clm.split_data_byidx_again(cv_idx=1)\n",
    "clm.init_model_again()\n",
    "clm.load_weights_again()"
   ]
  },
  {
   "cell_type": "code",
   "execution_count": null,
   "id": "e3add3bf-0378-4f27-a6b9-d8bdc43a18cc",
   "metadata": {},
   "outputs": [
    {
     "name": "stderr",
     "output_type": "stream",
     "text": [
      " 65%|███████████████████████████████████████████████████████████████████▏                                   | 18028/27655 [10:45<04:39, 34.45it/s]"
     ]
    }
   ],
   "source": [
    "clm.get_sender_receiver_effects()"
   ]
  },
  {
   "cell_type": "code",
   "execution_count": null,
   "id": "70880b81-11d6-42db-9e15-117fac5228bb",
   "metadata": {},
   "outputs": [],
   "source": [
    "clm.type_coupling_analysis(undefined_types=['other'])"
   ]
  }
 ],
 "metadata": {
  "kernelspec": {
   "display_name": "Python 3",
   "language": "python",
   "name": "python3"
  },
  "language_info": {
   "codemirror_mode": {
    "name": "ipython",
    "version": 3
   },
   "file_extension": ".py",
   "mimetype": "text/x-python",
   "name": "python",
   "nbconvert_exporter": "python",
   "pygments_lexer": "ipython3",
   "version": "3.8.0"
  }
 },
 "nbformat": 4,
 "nbformat_minor": 5
}

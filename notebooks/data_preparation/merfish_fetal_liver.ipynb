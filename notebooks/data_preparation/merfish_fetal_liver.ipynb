{
 "cells": [
  {
   "cell_type": "code",
   "execution_count": 1,
   "id": "9b1cf91e-a68c-4d26-81b5-9d00b8154381",
   "metadata": {},
   "outputs": [],
   "source": [
    "import numpy as np\n",
    "import pandas as pd\n",
    "import scanpy as sc"
   ]
  },
  {
   "cell_type": "code",
   "execution_count": 2,
   "id": "455f8d3b-2461-47eb-b468-4b76747d7ffb",
   "metadata": {},
   "outputs": [],
   "source": [
    "path = \"/Users/anna.schaar/phd/datasets/lu/GSE172129_RAW/\""
   ]
  },
  {
   "cell_type": "code",
   "execution_count": 3,
   "id": "1d887a72-fda4-485c-8947-d539433ace39",
   "metadata": {},
   "outputs": [],
   "source": [
    "out_path = \"/Users/anna.schaar/phd/datasets/lu/\""
   ]
  },
  {
   "cell_type": "markdown",
   "id": "e7a619d1-877f-4e80-a7f8-b767aed93681",
   "metadata": {},
   "source": [
    "# sorted HSC"
   ]
  },
  {
   "cell_type": "code",
   "execution_count": 4,
   "id": "f1ac5574-d1ee-407d-a6c0-3f53ddde002f",
   "metadata": {},
   "outputs": [],
   "source": [
    "data_file = \"GSM5242403_E14.5FL_HSC_matrix.mtx\"\n",
    "gene_file = \"GSM5242403_E14.5FL_HSC_features.tsv\"\n",
    "barcode_file = \"GSM5242403_E14.5FL_HSC_barcodes.tsv.gz\""
   ]
  },
  {
   "cell_type": "code",
   "execution_count": 5,
   "id": "a4157862-b059-490f-ae2f-218471166992",
   "metadata": {},
   "outputs": [],
   "source": [
    "adata = sc.read(path+data_file)\n",
    "adata = adata.transpose()\n",
    "adata.X = adata.X.toarray()\n",
    "\n",
    "barcodes = pd.read_csv(path + barcode_file, header=None, sep='\\t')\n",
    "genes = pd.read_csv(path + gene_file, header=None, sep='\\t')\n",
    "\n",
    "barcodes.rename(columns={0:'barcode'}, inplace=True)\n",
    "barcodes.set_index('barcode', inplace=True)\n",
    "adata.obs = barcodes\n",
    "\n",
    "genes.rename(columns={0:'chozen_isoform', 1:'gene_short_name', 2:'code'}, inplace=True)\n",
    "genes.set_index('gene_short_name', inplace=True)\n",
    "adata.var = genes"
   ]
  },
  {
   "cell_type": "code",
   "execution_count": 6,
   "id": "913d6f1f-e903-44a0-a5fb-b9eea6ae2e64",
   "metadata": {},
   "outputs": [],
   "source": [
    "adata.var_names_make_unique()"
   ]
  },
  {
   "cell_type": "markdown",
   "id": "ea77fdcc-0e9f-4d36-ade7-7ff97ab83735",
   "metadata": {},
   "source": [
    "## Quality control "
   ]
  },
  {
   "cell_type": "code",
   "execution_count": 7,
   "id": "23908edf-670e-44b7-9a8d-9279982e94b2",
   "metadata": {},
   "outputs": [],
   "source": [
    "adata.obs['n_counts'] = adata.X.sum(1)\n",
    "adata.obs['log_counts'] = np.log(adata.obs['n_counts'])\n",
    "adata.obs['n_genes'] = (adata.X > 0).sum(1)\n",
    "\n",
    "mt_gene_mask = [gene.startswith('mt-') for gene in adata.var_names]\n",
    "adata.obs['mt_frac'] = adata.X[:, mt_gene_mask].sum(1)/adata.obs['n_counts']"
   ]
  },
  {
   "cell_type": "code",
   "execution_count": 8,
   "id": "2582084e-de0b-42d3-b3b2-c2f1474a455a",
   "metadata": {},
   "outputs": [
    {
     "name": "stdout",
     "output_type": "stream",
     "text": [
      "Total number of cells: 8613\n",
      "Number of cells after gene filter: 7436\n",
      "Total number of genes: 28692\n",
      "Number of genes after cell filter: 15899\n",
      "Number of cells after MT filter: 6486\n"
     ]
    }
   ],
   "source": [
    "# Filter cells according to identified QC thresholds:\n",
    "print('Total number of cells: {:d}'.format(adata.n_obs))\n",
    "\n",
    "sc.pp.filter_cells(adata, min_genes = 500)\n",
    "print('Number of cells after gene filter: {:d}'.format(adata.n_obs))\n",
    "\n",
    "#Filter genes:\n",
    "print('Total number of genes: {:d}'.format(adata.n_vars))\n",
    "\n",
    "# Min 3 cells\n",
    "sc.pp.filter_genes(adata, min_cells=3)\n",
    "print('Number of genes after cell filter: {:d}'.format(adata.n_vars))\n",
    "\n",
    "\n",
    "adata = adata[adata.obs['mt_frac'] < 0.1]\n",
    "print('Number of cells after MT filter: {:d}'.format(adata.n_obs))"
   ]
  },
  {
   "cell_type": "markdown",
   "id": "6fefbb51-54dd-48dc-8d2f-2c1a6862be62",
   "metadata": {},
   "source": [
    "## Normalization"
   ]
  },
  {
   "cell_type": "code",
   "execution_count": 9,
   "id": "c3e4036a-2e13-481b-ad70-754705d5abdc",
   "metadata": {},
   "outputs": [
    {
     "name": "stderr",
     "output_type": "stream",
     "text": [
      "/Users/anna.schaar/opt/miniconda3/envs/ncem/lib/python3.8/site-packages/scanpy/preprocessing/_normalization.py:155: UserWarning: Revieved a view of an AnnData. Making a copy.\n",
      "  view_to_actual(adata)\n"
     ]
    }
   ],
   "source": [
    "sc.pp.normalize_total(adata, target_sum=1e5)\n",
    "sc.pp.log1p(adata)"
   ]
  },
  {
   "cell_type": "code",
   "execution_count": 10,
   "id": "4c938e57-7e77-48c6-a000-8b40aed27e18",
   "metadata": {},
   "outputs": [
    {
     "data": {
      "text/plain": [
       "AnnData object with n_obs × n_vars = 6486 × 15899\n",
       "    obs: 'n_counts', 'log_counts', 'n_genes', 'mt_frac'\n",
       "    var: 'chozen_isoform', 'code', 'n_cells'\n",
       "    uns: 'log1p'"
      ]
     },
     "execution_count": 10,
     "metadata": {},
     "output_type": "execute_result"
    }
   ],
   "source": [
    "adata"
   ]
  },
  {
   "cell_type": "code",
   "execution_count": 11,
   "id": "576f1974-c7db-450f-b2f4-57027c9b068d",
   "metadata": {},
   "outputs": [
    {
     "name": "stderr",
     "output_type": "stream",
     "text": [
      "/Users/anna.schaar/opt/miniconda3/envs/ncem/lib/python3.8/site-packages/anndata/_core/anndata.py:1220: FutureWarning: The `inplace` parameter in pandas.Categorical.reorder_categories is deprecated and will be removed in a future version. Removing unused categories will always return a new Categorical object.\n",
      "  c.reorder_categories(natsorted(c.categories), inplace=True)\n",
      "... storing 'code' as categorical\n"
     ]
    }
   ],
   "source": [
    "adata.write(out_path+\"sorted_HSC.h5ad\")"
   ]
  },
  {
   "cell_type": "markdown",
   "id": "37aa4bb0-3a94-4029-adb9-84440edcb646",
   "metadata": {},
   "source": [
    "# Fetal liver"
   ]
  },
  {
   "cell_type": "code",
   "execution_count": 12,
   "id": "47b3b210-0814-47b0-bdbc-68df69c41832",
   "metadata": {},
   "outputs": [],
   "source": [
    "data_file = \"GSM5242402_E14.5FL_matrix.mtx\"\n",
    "gene_file = \"GSM5242402_E14.5FL_features.tsv\"\n",
    "barcode_file = \"GSM5242402_E14.5FL_barcodes.tsv.gz\""
   ]
  },
  {
   "cell_type": "code",
   "execution_count": 13,
   "id": "f2017552-bf95-413c-808f-7f70ca5fc47c",
   "metadata": {},
   "outputs": [],
   "source": [
    "adata = sc.read(path+data_file)\n",
    "adata = adata.transpose()\n",
    "adata.X = adata.X.toarray()\n",
    "\n",
    "barcodes = pd.read_csv(path + barcode_file, header=None, sep='\\t')\n",
    "genes = pd.read_csv(path + gene_file, header=None, sep='\\t')\n",
    "\n",
    "barcodes.rename(columns={0:'barcode'}, inplace=True)\n",
    "barcodes.set_index('barcode', inplace=True)\n",
    "adata.obs = barcodes\n",
    "\n",
    "genes.rename(columns={0:'chozen_isoform', 1:'gene_short_name', 2:'code'}, inplace=True)\n",
    "genes.set_index('gene_short_name', inplace=True)\n",
    "adata.var = genes"
   ]
  },
  {
   "cell_type": "code",
   "execution_count": 14,
   "id": "bd75cc66-fb25-43ee-b740-eee932e90df4",
   "metadata": {},
   "outputs": [],
   "source": [
    "adata.var_names_make_unique()"
   ]
  },
  {
   "cell_type": "markdown",
   "id": "f7532437-8767-4daa-993d-e5339bfdbce6",
   "metadata": {},
   "source": [
    "## Quality Control"
   ]
  },
  {
   "cell_type": "code",
   "execution_count": 15,
   "id": "e8b1b92d-11ab-43f1-885d-3f6be2581fa7",
   "metadata": {},
   "outputs": [],
   "source": [
    "adata.obs['n_counts'] = adata.X.sum(1)\n",
    "adata.obs['log_counts'] = np.log(adata.obs['n_counts'])\n",
    "adata.obs['n_genes'] = (adata.X > 0).sum(1)\n",
    "\n",
    "mt_gene_mask = [gene.startswith('mt-') for gene in adata.var_names]\n",
    "adata.obs['mt_frac'] = adata.X[:, mt_gene_mask].sum(1)/adata.obs['n_counts']"
   ]
  },
  {
   "cell_type": "code",
   "execution_count": 16,
   "id": "3be8c946-de4e-4336-b195-01dd049decbd",
   "metadata": {},
   "outputs": [
    {
     "name": "stdout",
     "output_type": "stream",
     "text": [
      "Total number of cells: 9448\n",
      "Number of cells after gene filter: 8286\n",
      "Total number of genes: 28692\n",
      "Number of genes after cell filter: 16187\n",
      "Number of cells after MT filter: 7788\n"
     ]
    }
   ],
   "source": [
    "# Filter cells according to identified QC thresholds:\n",
    "print('Total number of cells: {:d}'.format(adata.n_obs))\n",
    "\n",
    "sc.pp.filter_cells(adata, min_genes = 500)\n",
    "print('Number of cells after gene filter: {:d}'.format(adata.n_obs))\n",
    "\n",
    "#Filter genes:\n",
    "print('Total number of genes: {:d}'.format(adata.n_vars))\n",
    "\n",
    "# Min 3 cells\n",
    "sc.pp.filter_genes(adata, min_cells=3)\n",
    "print('Number of genes after cell filter: {:d}'.format(adata.n_vars))\n",
    "\n",
    "\n",
    "adata = adata[adata.obs['mt_frac'] < 0.1]\n",
    "print('Number of cells after MT filter: {:d}'.format(adata.n_obs))"
   ]
  },
  {
   "cell_type": "markdown",
   "id": "9e7afb7c-7709-409e-95c2-a71465bcec49",
   "metadata": {},
   "source": [
    "## Normalization"
   ]
  },
  {
   "cell_type": "code",
   "execution_count": 17,
   "id": "fc630efa-759c-4323-bb12-f1e1e8878417",
   "metadata": {},
   "outputs": [
    {
     "name": "stderr",
     "output_type": "stream",
     "text": [
      "/Users/anna.schaar/opt/miniconda3/envs/ncem/lib/python3.8/site-packages/scanpy/preprocessing/_normalization.py:155: UserWarning: Revieved a view of an AnnData. Making a copy.\n",
      "  view_to_actual(adata)\n"
     ]
    }
   ],
   "source": [
    "sc.pp.normalize_total(adata, target_sum=1e5)\n",
    "sc.pp.log1p(adata)"
   ]
  },
  {
   "cell_type": "code",
   "execution_count": 18,
   "id": "0317303a-4817-4d28-bf35-8a7a05a9e1b8",
   "metadata": {},
   "outputs": [
    {
     "data": {
      "text/plain": [
       "AnnData object with n_obs × n_vars = 7788 × 16187\n",
       "    obs: 'n_counts', 'log_counts', 'n_genes', 'mt_frac'\n",
       "    var: 'chozen_isoform', 'code', 'n_cells'\n",
       "    uns: 'log1p'"
      ]
     },
     "execution_count": 18,
     "metadata": {},
     "output_type": "execute_result"
    }
   ],
   "source": [
    "adata"
   ]
  },
  {
   "cell_type": "code",
   "execution_count": 19,
   "id": "5e4f458c-9a0a-4265-b59b-b4a43000d9ed",
   "metadata": {},
   "outputs": [
    {
     "name": "stderr",
     "output_type": "stream",
     "text": [
      "/Users/anna.schaar/opt/miniconda3/envs/ncem/lib/python3.8/site-packages/anndata/_core/anndata.py:1220: FutureWarning: The `inplace` parameter in pandas.Categorical.reorder_categories is deprecated and will be removed in a future version. Removing unused categories will always return a new Categorical object.\n",
      "  c.reorder_categories(natsorted(c.categories), inplace=True)\n",
      "... storing 'code' as categorical\n"
     ]
    }
   ],
   "source": [
    "adata.write(out_path+\"fetal_liver.h5ad\")"
   ]
  }
 ],
 "metadata": {
  "kernelspec": {
   "display_name": "Python 3",
   "language": "python",
   "name": "python3"
  },
  "language_info": {
   "codemirror_mode": {
    "name": "ipython",
    "version": 3
   },
   "file_extension": ".py",
   "mimetype": "text/x-python",
   "name": "python",
   "nbconvert_exporter": "python",
   "pygments_lexer": "ipython3",
   "version": "3.8.0"
  }
 },
 "nbformat": 4,
 "nbformat_minor": 5
}
